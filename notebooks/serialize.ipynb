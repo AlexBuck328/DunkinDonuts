{
 "cells": [
  {
   "cell_type": "markdown",
   "metadata": {},
   "source": [
    "# Serialize json into GeoJSON\n",
    "\n",
    "This script imports a json object containing coordinate information and builds a valid GeoJSON object from it.\n",
    "\n",
    "written by rgdonohue"
   ]
  },
  {
   "cell_type": "code",
   "execution_count": 23,
   "metadata": {},
   "outputs": [],
   "source": [
    "import json"
   ]
  },
  {
   "cell_type": "code",
   "execution_count": 24,
   "metadata": {},
   "outputs": [],
   "source": [
    "# open the json and load it\n",
    "with open('./assignment/data/dunkinDonuts.json') as json_file:\n",
    "    data = json.load(json_file)"
   ]
  },
  {
   "cell_type": "code",
   "execution_count": 25,
   "metadata": {},
   "outputs": [],
   "source": [
    " #data['data'][0]['geoJson']['coordinates'][1]"
   ]
  },
  {
   "cell_type": "code",
   "execution_count": 26,
   "metadata": {},
   "outputs": [],
   "source": [
    "# start to build a valid GeoJSON structure\n",
    "geojson = {\n",
    "  \"type\": \"FeatureCollection\",\n",
    "  \"features\": []\n",
    "}"
   ]
  },
  {
   "cell_type": "code",
   "execution_count": 27,
   "metadata": {},
   "outputs": [],
   "source": [
    "# loop through all the objects in the json\n",
    "for datum in data['data']:\n",
    "    # build a GeoJSON feature\n",
    "    feature = { \"type\": \"Feature\",\n",
    "               \"geometry\": { \"type\": \"Point\",\n",
    "                            \"coordinates\": [datum['geoJson']['coordinates'][1], datum['geoJson']['coordinates'][0]] \n",
    "               \"properties\": datum  # just add all the data as properties even though still contains coords\n",
    "              }\n",
    "    # add the feature to the geojson's features\n",
    "    geojson[\"features\"].append(feature)\n"
   ]
  },
  {
   "cell_type": "code",
   "execution_count": 28,
   "metadata": {},
   "outputs": [],
   "source": [
    "# write the GeoJSON to file\n",
    "with open('./assignment/data/dunkinDonuts2.geojson', 'w') as outfile:\n",
    "    json.dump(geojson, outfile)"
   ]
  },
  {
   "cell_type": "code",
   "execution_count": null,
   "metadata": {},
   "outputs": [],
   "source": []
  }
 ],
 "metadata": {
  "kernelspec": {
   "display_name": "Python 3",
   "language": "python",
   "name": "python3"
  },
  "language_info": {
   "codemirror_mode": {
    "name": "ipython",
    "version": 3
   },
   "file_extension": ".py",
   "mimetype": "text/x-python",
   "name": "python",
   "nbconvert_exporter": "python",
   "pygments_lexer": "ipython3",
   "version": "3.7.7"
  }
 },
 "nbformat": 4,
 "nbformat_minor": 4
}
